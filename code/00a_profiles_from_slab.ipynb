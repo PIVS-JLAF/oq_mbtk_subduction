{
 "cells": [
  {
   "cell_type": "markdown",
   "metadata": {},
   "source": [
    "# Datasets and profile preparation using Slab2.0"
   ]
  },
  {
   "cell_type": "code",
   "execution_count": 3,
   "metadata": {},
   "outputs": [],
   "source": [
    "import os\n",
    "import sys\n",
    "import shutil\n",
    "import openquake.sub as sub\n",
    "\n",
    "# Get the path of the mbtk subduction module\n",
    "path = sub.__path__[0]"
   ]
  },
  {
   "cell_type": "markdown",
   "metadata": {},
   "source": [
    "## 1. Pickle the catalogue\n",
    "First we pickle the catalogue, that is, we create a compact representation of this dataset that can be read quickly by python."
   ]
  },
  {
   "cell_type": "code",
   "execution_count": null,
   "metadata": {},
   "outputs": [
    {
     "name": "stdout",
     "output_type": "stream",
     "text": [
      "./../data/catalogue/Leyte_ISCGEMv10_200km.csv\n",
      "Catalogue Attribute OID is not a recognised catalogue key\n",
      "Catalogue Attribute q is not a recognised catalogue key\n",
      "Catalogue Attribute eventid is not a recognised catalogue key\n",
      "Catalogue Attribute strike is not a recognised catalogue key\n",
      "Catalogue Attribute smajax is not a recognised catalogue key\n",
      "Catalogue Attribute sminax is not a recognised catalogue key\n",
      "Catalogue Attribute unc is not a recognised catalogue key\n",
      "Catalogue Attribute q_1 is not a recognised catalogue key\n",
      "Catalogue Attribute unc_1 is not a recognised catalogue key\n",
      "Catalogue Attribute q_12 is not a recognised catalogue key\n",
      "Catalogue Attribute s is not a recognised catalogue key\n",
      "Catalogue Attribute mo is not a recognised catalogue key\n",
      "Catalogue Attribute fac is not a recognised catalogue key\n",
      "Catalogue Attribute mo_auth is not a recognised catalogue key\n",
      "Catalogue Attribute mpp is not a recognised catalogue key\n",
      "Catalogue Attribute mpr is not a recognised catalogue key\n",
      "Catalogue Attribute mrr is not a recognised catalogue key\n",
      "Catalogue Attribute mrt is not a recognised catalogue key\n",
      "Catalogue Attribute mtp is not a recognised catalogue key\n",
      "Catalogue Attribute mtt is not a recognised catalogue key\n",
      "Catalogue Attribute str1 is not a recognised catalogue key\n",
      "Catalogue Attribute dip1 is not a recognised catalogue key\n",
      "Catalogue Attribute rake1 is not a recognised catalogue key\n",
      "Catalogue Attribute str2 is not a recognised catalogue key\n",
      "Catalogue Attribute dip2 is not a recognised catalogue key\n",
      "Catalogue Attribute rake2 is not a recognised catalogue key\n",
      "Catalogue Attribute type is not a recognised catalogue key\n"
     ]
    }
   ],
   "source": [
    "from openquake.sub.pickle_catalogue import main\n",
    "\n",
    "catalog = \"./../data/catalogue/Leyte_ISCGEMv10_200km.csv\"\n",
    "\n",
    "main(catalog)\n",
    "\n",
    "source = \"catalogue_ext.p\"\n",
    "destination = \"./../data/catalogue/wpg_catalogue_sumatra.p\"\n",
    "os.makedirs(os.path.dirname(destination), exist_ok=True)\n",
    "\n",
    "# Move the file\n",
    "shutil.move(source, destination)\n",
    "\n",
    "os.remove(\"catalogue_ori.p\")"
   ]
  },
  {
   "cell_type": "markdown",
   "metadata": {},
   "source": [
    "## 2. Create cross-sections\n",
    "Now we create a file containing the input required to plot a cross section given a trace. We generate a set of traces automatically by sampling it at regular disstances. At each point we take the perpendicular direction to the trench to define the direction of the trace. "
   ]
  },
  {
   "cell_type": "code",
   "execution_count": null,
   "metadata": {},
   "outputs": [
    {
     "name": "stderr",
     "output_type": "stream",
     "text": [
      "Traceback (most recent call last):\n",
      "  File \"c:\\Users\\USER\\Desktop\\subduction\\oq-mbtk-sub-example\\.venv\\lib\\site-packages\\openquake\\sub\\create_multiple_cross_sections.py\", line 187, in <module>\n",
      "    sap.run(main)\n",
      "  File \"c:\\Users\\USER\\Desktop\\subduction\\oq-mbtk-sub-example\\.venv\\lib\\site-packages\\openquake\\baselib\\sap.py\", line 212, in run\n",
      "    return _run(parser(funcdict, **parserkw), argv)\n",
      "  File \"c:\\Users\\USER\\Desktop\\subduction\\oq-mbtk-sub-example\\.venv\\lib\\site-packages\\openquake\\baselib\\sap.py\", line 203, in _run\n",
      "    return func(**dic)\n",
      "  File \"c:\\Users\\USER\\Desktop\\subduction\\oq-mbtk-sub-example\\.venv\\lib\\site-packages\\openquake\\sub\\create_multiple_cross_sections.py\", line 178, in main\n",
      "    cs_dict = get_cs(trench, argv[0], cs_length, cs_depth, interdistance, qual)\n",
      "NameError: name 'argv' is not defined\n",
      "The syntax of the command is incorrect.\n",
      "The system cannot find the file specified.\n"
     ]
    }
   ],
   "source": [
    "import openquake.sub.create_multiple_cross_sections as cmcs\n",
    "\n",
    "profile_path = \"./../ini/create_profiles.txt\"\n",
    "\n",
    "cmcs(profile_path)\n",
    "\n",
    "\n",
    "source = \"cs_traces.cs\"\n",
    "destination = \"./../model/cs_traces.txt\"\n",
    "os.makedirs(os.path.dirname(destination), exist_ok=True)\n",
    "\n",
    "\n",
    "!python $path/create_multiple_cross_sections.py ./../ini/create_profiles.txt\n",
    "!mkdir -p ./../model\n",
    "!move cs_traces.cs ./../model/cs_traces.txt"
   ]
  },
  {
   "cell_type": "markdown",
   "metadata": {},
   "source": [
    "## 3. Calculate profiles"
   ]
  },
  {
   "cell_type": "code",
   "execution_count": 4,
   "metadata": {},
   "outputs": [],
   "source": [
    "fname_sl = './../data/subduction/sum_slab2_dep_02.23.18.xyz'\n",
    "fout = './../model/profiles/'\n",
    "fname_cs = './../model/cs_traces.txt'"
   ]
  },
  {
   "cell_type": "code",
   "execution_count": null,
   "metadata": {},
   "outputs": [
    {
     "name": "stderr",
     "output_type": "stream",
     "text": [
      "The syntax of the command is incorrect.\n",
      "usage: oq [-h] [-v]\n",
      "          {abort,checksum,check_input,collect_jobs,compare,create_jobs,db,dbserver,dump,engine,export,extract,importcalc,info,ltcsv,mosaic,nrml_from,nrml_to,plot,plot_assets,plot_sites,postzip,prepare_site_model,purge,reaggregate,reduce_exp,reduce_sm,reduce_smlt,renumber_sm,rerun,reset,restore,run,sample,sensitivity_analysis,shakemap2gmfs,shell,show,show_attrs,submit,tidy,to_hdf5,upgrade_nrml,webui,workers,zip}\n",
      "          ...\n",
      "oq: error: argument {abort,checksum,check_input,collect_jobs,compare,create_jobs,db,dbserver,dump,engine,export,extract,importcalc,info,ltcsv,mosaic,nrml_from,nrml_to,plot,plot_assets,plot_sites,postzip,prepare_site_model,purge,reaggregate,reduce_exp,reduce_sm,reduce_smlt,renumber_sm,rerun,reset,restore,run,sample,sensitivity_analysis,shakemap2gmfs,shell,show,show_attrs,submit,tidy,to_hdf5,upgrade_nrml,webui,workers,zip}: invalid choice: 'sub' (choose from 'abort', 'checksum', 'check_input', 'collect_jobs', 'compare', 'create_jobs', 'db', 'dbserver', 'dump', 'engine', 'export', 'extract', 'importcalc', 'info', 'ltcsv', 'mosaic', 'nrml_from', 'nrml_to', 'plot', 'plot_assets', 'plot_sites', 'postzip', 'prepare_site_model', 'purge', 'reaggregate', 'reduce_exp', 'reduce_sm', 'reduce_smlt', 'renumber_sm', 'rerun', 'reset', 'restore', 'run', 'sample', 'sensitivity_analysis', 'shakemap2gmfs', 'shell', 'show', 'show_attrs', 'submit', 'tidy', 'to_hdf5', 'upgrade_nrml', 'webui', 'workers', 'zip')\n"
     ]
    }
   ],
   "source": [
    "!mkdir -p $fout\n",
    "!oq sub create_sections_from_slab.py $fname_sl $fout $fname_cs\n",
    "\n",
    "import openquake.sub.create_2pt5_model"
   ]
  },
  {
   "cell_type": "markdown",
   "metadata": {},
   "source": [
    "## 4. Create the top of the slab surface"
   ]
  },
  {
   "cell_type": "code",
   "execution_count": 2,
   "metadata": {},
   "outputs": [],
   "source": [
    "max_sampling_distace=10.0\n",
    "UpperSeismoDepth=0\n",
    "LowerSeismoDepth=250.\n",
    "\n",
    "input_path='./../model/profiles/'\n",
    "output_folder='./../model/surfaces/sum'"
   ]
  },
  {
   "cell_type": "code",
   "execution_count": 3,
   "metadata": {},
   "outputs": [
    {
     "name": "stderr",
     "output_type": "stream",
     "text": [
      "11/18/2024 12:15:59 PM Did not find cross-sections in c:\\Users\\USER\\Desktop\\subduction\\oq-mbtk-sub-example\\model\\profiles\n",
      " exiting\n"
     ]
    },
    {
     "ename": "SystemExit",
     "evalue": "0",
     "output_type": "error",
     "traceback": [
      "An exception has occurred, use %tb to see the full traceback.\n",
      "\u001b[1;31mSystemExit\u001b[0m\u001b[1;31m:\u001b[0m 0\n"
     ]
    },
    {
     "name": "stderr",
     "output_type": "stream",
     "text": [
      "c:\\Users\\USER\\Desktop\\subduction\\oq-mbtk-sub-example\\.venv\\lib\\site-packages\\IPython\\core\\interactiveshell.py:3585: UserWarning: To exit: use 'exit', 'quit', or Ctrl-D.\n",
      "  warn(\"To exit: use 'exit', 'quit', or Ctrl-D.\", stacklevel=1)\n"
     ]
    }
   ],
   "source": [
    "# !mkdir -p $out_folder\n",
    "# !oqm sub build_complex_surface $in_folder $sampling $out_folder $uppdep $lowdep\n",
    "\n",
    "\n",
    "from openquake.sub.build_complex_surface import c_build_complex_surface\n",
    "c_build_complex_surface(input_path, max_sampling_distace, output_folder, UpperSeismoDepth, LowerSeismoDepth)"
   ]
  },
  {
   "cell_type": "markdown",
   "metadata": {},
   "source": [
    "## 5. Plotting\n",
    "\n",
    "Now we create a .geojson file containing the profiles and edges which can be visualized with a GIS."
   ]
  },
  {
   "cell_type": "code",
   "execution_count": 8,
   "metadata": {},
   "outputs": [],
   "source": [
    "pattern = './../model/profiles/cs*.csv'\n",
    "output = './../output/geojson/profiles.geojson'"
   ]
  },
  {
   "cell_type": "code",
   "execution_count": 10,
   "metadata": {},
   "outputs": [],
   "source": [
    "import json\n",
    "from ipyleaflet import Map, GeoJSON"
   ]
  },
  {
   "cell_type": "code",
   "execution_count": 11,
   "metadata": {},
   "outputs": [
    {
     "ename": "FileNotFoundError",
     "evalue": "[Errno 2] No such file or directory: './../output/geojson/profiles.geojson'",
     "output_type": "error",
     "traceback": [
      "\u001b[1;31m---------------------------------------------------------------------------\u001b[0m",
      "\u001b[1;31mFileNotFoundError\u001b[0m                         Traceback (most recent call last)",
      "Cell \u001b[1;32mIn[11], line 1\u001b[0m\n\u001b[1;32m----> 1\u001b[0m \u001b[38;5;28;01mwith\u001b[39;00m \u001b[38;5;28;43mopen\u001b[39;49m\u001b[43m(\u001b[49m\u001b[43moutput\u001b[49m\u001b[43m,\u001b[49m\u001b[43m \u001b[49m\u001b[38;5;124;43m'\u001b[39;49m\u001b[38;5;124;43mr\u001b[39;49m\u001b[38;5;124;43m'\u001b[39;49m\u001b[43m)\u001b[49m \u001b[38;5;28;01mas\u001b[39;00m f:\n\u001b[0;32m      2\u001b[0m     data \u001b[38;5;241m=\u001b[39m json\u001b[38;5;241m.\u001b[39mload(f)\n\u001b[0;32m      3\u001b[0m geo_json \u001b[38;5;241m=\u001b[39m GeoJSON(data\u001b[38;5;241m=\u001b[39mdata, style\u001b[38;5;241m=\u001b[39m{\u001b[38;5;124m'\u001b[39m\u001b[38;5;124mopacity\u001b[39m\u001b[38;5;124m'\u001b[39m: \u001b[38;5;241m1\u001b[39m, \u001b[38;5;124m'\u001b[39m\u001b[38;5;124mdashArray\u001b[39m\u001b[38;5;124m'\u001b[39m: \u001b[38;5;124m'\u001b[39m\u001b[38;5;124m2\u001b[39m\u001b[38;5;124m'\u001b[39m, \u001b[38;5;124m'\u001b[39m\u001b[38;5;124mfillOpacity\u001b[39m\u001b[38;5;124m'\u001b[39m: \u001b[38;5;241m0.1\u001b[39m, \u001b[38;5;124m'\u001b[39m\u001b[38;5;124mweight\u001b[39m\u001b[38;5;124m'\u001b[39m: \u001b[38;5;241m1\u001b[39m})\n",
      "File \u001b[1;32mc:\\Users\\USER\\Desktop\\subduction\\oq-mbtk-sub-example\\.venv\\lib\\site-packages\\IPython\\core\\interactiveshell.py:324\u001b[0m, in \u001b[0;36m_modified_open\u001b[1;34m(file, *args, **kwargs)\u001b[0m\n\u001b[0;32m    317\u001b[0m \u001b[38;5;28;01mif\u001b[39;00m file \u001b[38;5;129;01min\u001b[39;00m {\u001b[38;5;241m0\u001b[39m, \u001b[38;5;241m1\u001b[39m, \u001b[38;5;241m2\u001b[39m}:\n\u001b[0;32m    318\u001b[0m     \u001b[38;5;28;01mraise\u001b[39;00m \u001b[38;5;167;01mValueError\u001b[39;00m(\n\u001b[0;32m    319\u001b[0m         \u001b[38;5;124mf\u001b[39m\u001b[38;5;124m\"\u001b[39m\u001b[38;5;124mIPython won\u001b[39m\u001b[38;5;124m'\u001b[39m\u001b[38;5;124mt let you open fd=\u001b[39m\u001b[38;5;132;01m{\u001b[39;00mfile\u001b[38;5;132;01m}\u001b[39;00m\u001b[38;5;124m by default \u001b[39m\u001b[38;5;124m\"\u001b[39m\n\u001b[0;32m    320\u001b[0m         \u001b[38;5;124m\"\u001b[39m\u001b[38;5;124mas it is likely to crash IPython. If you know what you are doing, \u001b[39m\u001b[38;5;124m\"\u001b[39m\n\u001b[0;32m    321\u001b[0m         \u001b[38;5;124m\"\u001b[39m\u001b[38;5;124myou can use builtins\u001b[39m\u001b[38;5;124m'\u001b[39m\u001b[38;5;124m open.\u001b[39m\u001b[38;5;124m\"\u001b[39m\n\u001b[0;32m    322\u001b[0m     )\n\u001b[1;32m--> 324\u001b[0m \u001b[38;5;28;01mreturn\u001b[39;00m io_open(file, \u001b[38;5;241m*\u001b[39margs, \u001b[38;5;241m*\u001b[39m\u001b[38;5;241m*\u001b[39mkwargs)\n",
      "\u001b[1;31mFileNotFoundError\u001b[0m: [Errno 2] No such file or directory: './../output/geojson/profiles.geojson'"
     ]
    }
   ],
   "source": [
    "with open(output, 'r') as f:\n",
    "    data = json.load(f)\n",
    "geo_json = GeoJSON(data=data, style={'opacity': 1, 'dashArray': '2', 'fillOpacity': 0.1, 'weight': 1})\n",
    "m = Map(center=(0.0, 100.0), zoom=5)\n",
    "m.add_layer(geo_json)\n",
    "m"
   ]
  },
  {
   "cell_type": "code",
   "execution_count": null,
   "metadata": {},
   "outputs": [],
   "source": []
  },
  {
   "cell_type": "code",
   "execution_count": 6,
   "metadata": {},
   "outputs": [],
   "source": [
    "import numpy as np\n",
    "import h5py\n",
    "import pickle\n",
    "\n",
    "# Load OQ tools\n",
    "from openquake.hmtk.parsers.catalogue import CsvCatalogueParser\n",
    "from openquake.hmtk.seismicity.selector import CatalogueSelector\n",
    "from openquake.hmtk.parsers.catalogue.csv_catalogue_parser import CsvCatalogueWriter"
   ]
  },
  {
   "cell_type": "code",
   "execution_count": 7,
   "metadata": {},
   "outputs": [
    {
     "ename": "FileNotFoundError",
     "evalue": "[Errno 2] Unable to synchronously open file (unable to open file: name = '~/model/catalogue/classification/classified.hdf5', errno = 2, error message = 'No such file or directory', flags = 0, o_flags = 0)",
     "output_type": "error",
     "traceback": [
      "\u001b[1;31m---------------------------------------------------------------------------\u001b[0m",
      "\u001b[1;31mFileNotFoundError\u001b[0m                         Traceback (most recent call last)",
      "Cell \u001b[1;32mIn[7], line 7\u001b[0m\n\u001b[0;32m      5\u001b[0m \u001b[38;5;66;03m# Reading TR hdf5 file and creating the list of tectonic regions\u001b[39;00m\n\u001b[0;32m      6\u001b[0m aaa \u001b[38;5;241m=\u001b[39m []\n\u001b[1;32m----> 7\u001b[0m f \u001b[38;5;241m=\u001b[39m \u001b[43mh5py\u001b[49m\u001b[38;5;241;43m.\u001b[39;49m\u001b[43mFile\u001b[49m\u001b[43m(\u001b[49m\u001b[43mtreg\u001b[49m\u001b[43m,\u001b[49m\u001b[43m \u001b[49m\u001b[38;5;124;43m\"\u001b[39;49m\u001b[38;5;124;43mr\u001b[39;49m\u001b[38;5;124;43m\"\u001b[39;49m\u001b[43m)\u001b[49m\n\u001b[0;32m      8\u001b[0m \u001b[38;5;28;01mfor\u001b[39;00m key \u001b[38;5;129;01min\u001b[39;00m f\u001b[38;5;241m.\u001b[39mkeys():\n\u001b[0;32m      9\u001b[0m     aaa\u001b[38;5;241m.\u001b[39mappend(key)\n",
      "File \u001b[1;32mc:\\Users\\USER\\Desktop\\subduction\\oq-mbtk-sub-example\\.venv\\lib\\site-packages\\h5py\\_hl\\files.py:561\u001b[0m, in \u001b[0;36mFile.__init__\u001b[1;34m(self, name, mode, driver, libver, userblock_size, swmr, rdcc_nslots, rdcc_nbytes, rdcc_w0, track_order, fs_strategy, fs_persist, fs_threshold, fs_page_size, page_buf_size, min_meta_keep, min_raw_keep, locking, alignment_threshold, alignment_interval, meta_block_size, **kwds)\u001b[0m\n\u001b[0;32m    552\u001b[0m     fapl \u001b[38;5;241m=\u001b[39m make_fapl(driver, libver, rdcc_nslots, rdcc_nbytes, rdcc_w0,\n\u001b[0;32m    553\u001b[0m                      locking, page_buf_size, min_meta_keep, min_raw_keep,\n\u001b[0;32m    554\u001b[0m                      alignment_threshold\u001b[38;5;241m=\u001b[39malignment_threshold,\n\u001b[0;32m    555\u001b[0m                      alignment_interval\u001b[38;5;241m=\u001b[39malignment_interval,\n\u001b[0;32m    556\u001b[0m                      meta_block_size\u001b[38;5;241m=\u001b[39mmeta_block_size,\n\u001b[0;32m    557\u001b[0m                      \u001b[38;5;241m*\u001b[39m\u001b[38;5;241m*\u001b[39mkwds)\n\u001b[0;32m    558\u001b[0m     fcpl \u001b[38;5;241m=\u001b[39m make_fcpl(track_order\u001b[38;5;241m=\u001b[39mtrack_order, fs_strategy\u001b[38;5;241m=\u001b[39mfs_strategy,\n\u001b[0;32m    559\u001b[0m                      fs_persist\u001b[38;5;241m=\u001b[39mfs_persist, fs_threshold\u001b[38;5;241m=\u001b[39mfs_threshold,\n\u001b[0;32m    560\u001b[0m                      fs_page_size\u001b[38;5;241m=\u001b[39mfs_page_size)\n\u001b[1;32m--> 561\u001b[0m     fid \u001b[38;5;241m=\u001b[39m \u001b[43mmake_fid\u001b[49m\u001b[43m(\u001b[49m\u001b[43mname\u001b[49m\u001b[43m,\u001b[49m\u001b[43m \u001b[49m\u001b[43mmode\u001b[49m\u001b[43m,\u001b[49m\u001b[43m \u001b[49m\u001b[43muserblock_size\u001b[49m\u001b[43m,\u001b[49m\u001b[43m \u001b[49m\u001b[43mfapl\u001b[49m\u001b[43m,\u001b[49m\u001b[43m \u001b[49m\u001b[43mfcpl\u001b[49m\u001b[43m,\u001b[49m\u001b[43m \u001b[49m\u001b[43mswmr\u001b[49m\u001b[38;5;241;43m=\u001b[39;49m\u001b[43mswmr\u001b[49m\u001b[43m)\u001b[49m\n\u001b[0;32m    563\u001b[0m \u001b[38;5;28;01mif\u001b[39;00m \u001b[38;5;28misinstance\u001b[39m(libver, \u001b[38;5;28mtuple\u001b[39m):\n\u001b[0;32m    564\u001b[0m     \u001b[38;5;28mself\u001b[39m\u001b[38;5;241m.\u001b[39m_libver \u001b[38;5;241m=\u001b[39m libver\n",
      "File \u001b[1;32mc:\\Users\\USER\\Desktop\\subduction\\oq-mbtk-sub-example\\.venv\\lib\\site-packages\\h5py\\_hl\\files.py:235\u001b[0m, in \u001b[0;36mmake_fid\u001b[1;34m(name, mode, userblock_size, fapl, fcpl, swmr)\u001b[0m\n\u001b[0;32m    233\u001b[0m     \u001b[38;5;28;01mif\u001b[39;00m swmr \u001b[38;5;129;01mand\u001b[39;00m swmr_support:\n\u001b[0;32m    234\u001b[0m         flags \u001b[38;5;241m|\u001b[39m\u001b[38;5;241m=\u001b[39m h5f\u001b[38;5;241m.\u001b[39mACC_SWMR_READ\n\u001b[1;32m--> 235\u001b[0m     fid \u001b[38;5;241m=\u001b[39m \u001b[43mh5f\u001b[49m\u001b[38;5;241;43m.\u001b[39;49m\u001b[43mopen\u001b[49m\u001b[43m(\u001b[49m\u001b[43mname\u001b[49m\u001b[43m,\u001b[49m\u001b[43m \u001b[49m\u001b[43mflags\u001b[49m\u001b[43m,\u001b[49m\u001b[43m \u001b[49m\u001b[43mfapl\u001b[49m\u001b[38;5;241;43m=\u001b[39;49m\u001b[43mfapl\u001b[49m\u001b[43m)\u001b[49m\n\u001b[0;32m    236\u001b[0m \u001b[38;5;28;01melif\u001b[39;00m mode \u001b[38;5;241m==\u001b[39m \u001b[38;5;124m'\u001b[39m\u001b[38;5;124mr+\u001b[39m\u001b[38;5;124m'\u001b[39m:\n\u001b[0;32m    237\u001b[0m     fid \u001b[38;5;241m=\u001b[39m h5f\u001b[38;5;241m.\u001b[39mopen(name, h5f\u001b[38;5;241m.\u001b[39mACC_RDWR, fapl\u001b[38;5;241m=\u001b[39mfapl)\n",
      "File \u001b[1;32mh5py\\\\_objects.pyx:54\u001b[0m, in \u001b[0;36mh5py._objects.with_phil.wrapper\u001b[1;34m()\u001b[0m\n",
      "File \u001b[1;32mh5py\\\\_objects.pyx:55\u001b[0m, in \u001b[0;36mh5py._objects.with_phil.wrapper\u001b[1;34m()\u001b[0m\n",
      "File \u001b[1;32mh5py\\\\h5f.pyx:102\u001b[0m, in \u001b[0;36mh5py.h5f.open\u001b[1;34m()\u001b[0m\n",
      "\u001b[1;31mFileNotFoundError\u001b[0m: [Errno 2] Unable to synchronously open file (unable to open file: name = '~/model/catalogue/classification/classified.hdf5', errno = 2, error message = 'No such file or directory', flags = 0, o_flags = 0)"
     ]
    }
   ],
   "source": [
    "# Configuration files\n",
    "cat_pickle_filename = '~/model/catalogue/csv/catalogue.pkl'\n",
    "treg = '~/model/catalogue/classification/classified.hdf5'\n",
    "\n",
    "# Reading TR hdf5 file and creating the list of tectonic regions\n",
    "aaa = []\n",
    "f = h5py.File(treg, \"r\")\n",
    "for key in f.keys():\n",
    "    aaa.append(key)\n",
    "    alen = len(f[key])\n",
    "    print(key)\n",
    "f.close()"
   ]
  },
  {
   "cell_type": "code",
   "execution_count": null,
   "metadata": {},
   "outputs": [],
   "source": []
  }
 ],
 "metadata": {
  "kernelspec": {
   "display_name": ".venv",
   "language": "python",
   "name": "python3"
  },
  "language_info": {
   "codemirror_mode": {
    "name": "ipython",
    "version": 3
   },
   "file_extension": ".py",
   "mimetype": "text/x-python",
   "name": "python",
   "nbconvert_exporter": "python",
   "pygments_lexer": "ipython3",
   "version": "3.10.0"
  }
 },
 "nbformat": 4,
 "nbformat_minor": 4
}
