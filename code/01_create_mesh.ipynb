{
 "cells": [
  {
   "cell_type": "markdown",
   "metadata": {},
   "source": [
    "# Subduction plots"
   ]
  },
  {
   "cell_type": "code",
   "execution_count": 2,
   "metadata": {},
   "outputs": [],
   "source": [
    "import os\n",
    "import numpy\n",
    "from utils import write_mesh, write_poly\n",
    "from IPython.display import Image\n",
    "from IPython.core.display import HTML \n",
    "from openquake.sub.misc.profile import _read_profiles\n",
    "from openquake.sub.misc.edge import create_from_profiles\n",
    "from openquake.sub.misc.utils import create_inslab_meshes\n",
    "from openquake.sub.quad.msh import create_lower_surface_mesh"
   ]
  },
  {
   "cell_type": "code",
   "execution_count": 3,
   "metadata": {},
   "outputs": [],
   "source": [
    "tmp_path = \"./tmp\"\n",
    "if not os.path.exists(tmp_path):\n",
    "    os.mkdir(tmp_path)\n",
    "    os.mkdir(os.path.join(tmp_path, 'vf'))    "
   ]
  },
  {
   "cell_type": "code",
   "execution_count": 4,
   "metadata": {},
   "outputs": [
    {
     "name": "stdout",
     "output_type": "stream",
     "text": [
      "Reading profiles from ./../model/profiles/cs*.*\n"
     ]
    },
    {
     "ename": "ValueError",
     "evalue": "negative dimensions are not allowed",
     "output_type": "error",
     "traceback": [
      "\u001b[1;31m---------------------------------------------------------------------------\u001b[0m",
      "\u001b[1;31mValueError\u001b[0m                                Traceback (most recent call last)",
      "Cell \u001b[1;32mIn[4], line 7\u001b[0m\n\u001b[0;32m      5\u001b[0m idl \u001b[38;5;241m=\u001b[39m \u001b[38;5;28;01mFalse\u001b[39;00m\n\u001b[0;32m      6\u001b[0m alg \u001b[38;5;241m=\u001b[39m \u001b[38;5;28;01mFalse\u001b[39;00m\n\u001b[1;32m----> 7\u001b[0m smsh \u001b[38;5;241m=\u001b[39m \u001b[43mcreate_from_profiles\u001b[49m\u001b[43m(\u001b[49m\u001b[43mprofiles\u001b[49m\u001b[43m,\u001b[49m\u001b[43m \u001b[49m\u001b[43msampling\u001b[49m\u001b[43m,\u001b[49m\u001b[43m \u001b[49m\u001b[43msampling\u001b[49m\u001b[43m,\u001b[49m\u001b[43m \u001b[49m\u001b[43midl\u001b[49m\u001b[43m,\u001b[49m\u001b[43m \u001b[49m\u001b[43malg\u001b[49m\u001b[43m)\u001b[49m\n\u001b[0;32m      8\u001b[0m low_mesh \u001b[38;5;241m=\u001b[39m create_lower_surface_mesh(smsh, \u001b[38;5;241m50\u001b[39m)\n",
      "File \u001b[1;32mc:\\Users\\USER\\Desktop\\subduction\\oq-mbtk-sub-example\\.venv\\lib\\site-packages\\openquake\\sub\\misc\\edge.py:504\u001b[0m, in \u001b[0;36mcreate_from_profiles\u001b[1;34m(profiles, profile_sd, edge_sd, idl, align)\u001b[0m\n\u001b[0;32m    501\u001b[0m     np\u001b[38;5;241m.\u001b[39mtesting\u001b[38;5;241m.\u001b[39massert_allclose(dst, profile_sd, rtol\u001b[38;5;241m=\u001b[39m\u001b[38;5;241m1.\u001b[39m)\n\u001b[0;32m    502\u001b[0m \u001b[38;5;66;03m#\u001b[39;00m\n\u001b[0;32m    503\u001b[0m \u001b[38;5;66;03m# find the delta needed to align profiles if requested\u001b[39;00m\n\u001b[1;32m--> 504\u001b[0m shift \u001b[38;5;241m=\u001b[39m \u001b[43mnp\u001b[49m\u001b[38;5;241;43m.\u001b[39;49m\u001b[43mzeros\u001b[49m\u001b[43m(\u001b[49m\u001b[38;5;28;43mlen\u001b[39;49m\u001b[43m(\u001b[49m\u001b[43mrprofiles\u001b[49m\u001b[43m)\u001b[49m\u001b[38;5;241;43m-\u001b[39;49m\u001b[38;5;241;43m1\u001b[39;49m\u001b[43m)\u001b[49m\n\u001b[0;32m    505\u001b[0m \u001b[38;5;28;01mif\u001b[39;00m align \u001b[38;5;129;01mis\u001b[39;00m \u001b[38;5;28;01mTrue\u001b[39;00m:\n\u001b[0;32m    506\u001b[0m     \u001b[38;5;28;01mfor\u001b[39;00m i \u001b[38;5;129;01min\u001b[39;00m \u001b[38;5;28mrange\u001b[39m(\u001b[38;5;241m0\u001b[39m, \u001b[38;5;28mlen\u001b[39m(rprofiles)\u001b[38;5;241m-\u001b[39m\u001b[38;5;241m1\u001b[39m):\n",
      "\u001b[1;31mValueError\u001b[0m: negative dimensions are not allowed"
     ]
    }
   ],
   "source": [
    "path = \"./../model/profiles/\"\n",
    "profiles, _ = _read_profiles(path)\n",
    "slab_thickness = 50.\n",
    "sampling = 40\n",
    "idl = False\n",
    "alg = False\n",
    "smsh = create_from_profiles(profiles, sampling, sampling, idl, alg)\n",
    "low_mesh = create_lower_surface_mesh(smsh, 50)"
   ]
  },
  {
   "cell_type": "markdown",
   "metadata": {},
   "source": [
    "## Plotting profiles and traces"
   ]
  },
  {
   "cell_type": "code",
   "execution_count": 5,
   "metadata": {},
   "outputs": [
    {
     "name": "stdout",
     "output_type": "stream",
     "text": [
      "Couldn't find program: 'bash'\n"
     ]
    }
   ],
   "source": [
    "%%bash -s \"$path\" \n",
    "\n",
    "catalogue='./../data/catalogue/wpg_catalogue_sumatra.csv'\n",
    "catalogue='./../data/catalogue/catalogue.csv'\n",
    "\n",
    "gmt set MAP_FRAME_TYPE = PLAIN\n",
    "gmt set PS_MEDIA = a4\n",
    "\n",
    "ext='-R94/107/-6/7/0/200'\n",
    "prj='-Jm1 -Jz-0.01 -p80/30/0'\n",
    "out='./tmp/profiles.ps'\n",
    "\n",
    "DATA=$1'/cs*'\n",
    "cpt=./tmp/tmp.cpt\n",
    "\n",
    "gmt psbasemap $ext $prj -K -B+n > $out\n",
    "gmt pscoast $ext $prj -O -K -Glightbrown >> $out\n",
    "gmt makecpt -Chaxby -T0/200/20 > $cpt\n",
    "tail -n+2 $catalogue | gawk -F, '{print $3, $4, $5, $5, $6/80}' | gmt psxyz $ext $prj -O -K -C$cpt -Sc >> $out\n",
    "\n",
    "for f in $DATA; \n",
    "do \n",
    "    gmt psxyz $f $ext $prj -O -K -Wthick,green,- >> $out\n",
    "    gmt psxy $f $ext $prj -O -K -Wthick,red >> $out\n",
    "done\n",
    "\n",
    "gmt pscoast $ext $prj -O -K -W0.5 >> $out\n",
    "gmt psbasemap $ext $prj -O -B+n >> $out\n",
    "gmt psconvert $out -A0.5c -P -Tg \n",
    "\n",
    "\n",
    "rm gmt.conf gmt.history\n",
    "echo 'done'"
   ]
  },
  {
   "cell_type": "code",
   "execution_count": null,
   "metadata": {},
   "outputs": [
    {
     "ename": "FileNotFoundError",
     "evalue": "[WinError 2] The system cannot find the file specified",
     "output_type": "error",
     "traceback": [
      "\u001b[1;31m---------------------------------------------------------------------------\u001b[0m",
      "\u001b[1;31mFileNotFoundError\u001b[0m                         Traceback (most recent call last)",
      "Cell \u001b[1;32mIn[7], line 20\u001b[0m\n\u001b[0;32m     18\u001b[0m \u001b[38;5;66;03m# Execute GMT settings\u001b[39;00m\n\u001b[0;32m     19\u001b[0m \u001b[38;5;28;01mfor\u001b[39;00m setting \u001b[38;5;129;01min\u001b[39;00m gmt_settings:\n\u001b[1;32m---> 20\u001b[0m     \u001b[43msubprocess\u001b[49m\u001b[38;5;241;43m.\u001b[39;49m\u001b[43mrun\u001b[49m\u001b[43m(\u001b[49m\u001b[43msetting\u001b[49m\u001b[43m)\u001b[49m\n\u001b[0;32m     22\u001b[0m \u001b[38;5;66;03m# Define parameters\u001b[39;00m\n\u001b[0;32m     23\u001b[0m ext \u001b[38;5;241m=\u001b[39m \u001b[38;5;124m\"\u001b[39m\u001b[38;5;124m-R94/107/-6/7/0/200\u001b[39m\u001b[38;5;124m\"\u001b[39m\n",
      "File \u001b[1;32m~\\AppData\\Local\\Programs\\Python\\Python310\\lib\\subprocess.py:501\u001b[0m, in \u001b[0;36mrun\u001b[1;34m(input, capture_output, timeout, check, *popenargs, **kwargs)\u001b[0m\n\u001b[0;32m    498\u001b[0m     kwargs[\u001b[38;5;124m'\u001b[39m\u001b[38;5;124mstdout\u001b[39m\u001b[38;5;124m'\u001b[39m] \u001b[38;5;241m=\u001b[39m PIPE\n\u001b[0;32m    499\u001b[0m     kwargs[\u001b[38;5;124m'\u001b[39m\u001b[38;5;124mstderr\u001b[39m\u001b[38;5;124m'\u001b[39m] \u001b[38;5;241m=\u001b[39m PIPE\n\u001b[1;32m--> 501\u001b[0m \u001b[38;5;28;01mwith\u001b[39;00m Popen(\u001b[38;5;241m*\u001b[39mpopenargs, \u001b[38;5;241m*\u001b[39m\u001b[38;5;241m*\u001b[39mkwargs) \u001b[38;5;28;01mas\u001b[39;00m process:\n\u001b[0;32m    502\u001b[0m     \u001b[38;5;28;01mtry\u001b[39;00m:\n\u001b[0;32m    503\u001b[0m         stdout, stderr \u001b[38;5;241m=\u001b[39m process\u001b[38;5;241m.\u001b[39mcommunicate(\u001b[38;5;28minput\u001b[39m, timeout\u001b[38;5;241m=\u001b[39mtimeout)\n",
      "File \u001b[1;32m~\\AppData\\Local\\Programs\\Python\\Python310\\lib\\subprocess.py:966\u001b[0m, in \u001b[0;36mPopen.__init__\u001b[1;34m(self, args, bufsize, executable, stdin, stdout, stderr, preexec_fn, close_fds, shell, cwd, env, universal_newlines, startupinfo, creationflags, restore_signals, start_new_session, pass_fds, user, group, extra_groups, encoding, errors, text, umask, pipesize)\u001b[0m\n\u001b[0;32m    962\u001b[0m         \u001b[38;5;28;01mif\u001b[39;00m \u001b[38;5;28mself\u001b[39m\u001b[38;5;241m.\u001b[39mtext_mode:\n\u001b[0;32m    963\u001b[0m             \u001b[38;5;28mself\u001b[39m\u001b[38;5;241m.\u001b[39mstderr \u001b[38;5;241m=\u001b[39m io\u001b[38;5;241m.\u001b[39mTextIOWrapper(\u001b[38;5;28mself\u001b[39m\u001b[38;5;241m.\u001b[39mstderr,\n\u001b[0;32m    964\u001b[0m                     encoding\u001b[38;5;241m=\u001b[39mencoding, errors\u001b[38;5;241m=\u001b[39merrors)\n\u001b[1;32m--> 966\u001b[0m     \u001b[38;5;28;43mself\u001b[39;49m\u001b[38;5;241;43m.\u001b[39;49m\u001b[43m_execute_child\u001b[49m\u001b[43m(\u001b[49m\u001b[43margs\u001b[49m\u001b[43m,\u001b[49m\u001b[43m \u001b[49m\u001b[43mexecutable\u001b[49m\u001b[43m,\u001b[49m\u001b[43m \u001b[49m\u001b[43mpreexec_fn\u001b[49m\u001b[43m,\u001b[49m\u001b[43m \u001b[49m\u001b[43mclose_fds\u001b[49m\u001b[43m,\u001b[49m\n\u001b[0;32m    967\u001b[0m \u001b[43m                        \u001b[49m\u001b[43mpass_fds\u001b[49m\u001b[43m,\u001b[49m\u001b[43m \u001b[49m\u001b[43mcwd\u001b[49m\u001b[43m,\u001b[49m\u001b[43m \u001b[49m\u001b[43menv\u001b[49m\u001b[43m,\u001b[49m\n\u001b[0;32m    968\u001b[0m \u001b[43m                        \u001b[49m\u001b[43mstartupinfo\u001b[49m\u001b[43m,\u001b[49m\u001b[43m \u001b[49m\u001b[43mcreationflags\u001b[49m\u001b[43m,\u001b[49m\u001b[43m \u001b[49m\u001b[43mshell\u001b[49m\u001b[43m,\u001b[49m\n\u001b[0;32m    969\u001b[0m \u001b[43m                        \u001b[49m\u001b[43mp2cread\u001b[49m\u001b[43m,\u001b[49m\u001b[43m \u001b[49m\u001b[43mp2cwrite\u001b[49m\u001b[43m,\u001b[49m\n\u001b[0;32m    970\u001b[0m \u001b[43m                        \u001b[49m\u001b[43mc2pread\u001b[49m\u001b[43m,\u001b[49m\u001b[43m \u001b[49m\u001b[43mc2pwrite\u001b[49m\u001b[43m,\u001b[49m\n\u001b[0;32m    971\u001b[0m \u001b[43m                        \u001b[49m\u001b[43merrread\u001b[49m\u001b[43m,\u001b[49m\u001b[43m \u001b[49m\u001b[43merrwrite\u001b[49m\u001b[43m,\u001b[49m\n\u001b[0;32m    972\u001b[0m \u001b[43m                        \u001b[49m\u001b[43mrestore_signals\u001b[49m\u001b[43m,\u001b[49m\n\u001b[0;32m    973\u001b[0m \u001b[43m                        \u001b[49m\u001b[43mgid\u001b[49m\u001b[43m,\u001b[49m\u001b[43m \u001b[49m\u001b[43mgids\u001b[49m\u001b[43m,\u001b[49m\u001b[43m \u001b[49m\u001b[43muid\u001b[49m\u001b[43m,\u001b[49m\u001b[43m \u001b[49m\u001b[43mumask\u001b[49m\u001b[43m,\u001b[49m\n\u001b[0;32m    974\u001b[0m \u001b[43m                        \u001b[49m\u001b[43mstart_new_session\u001b[49m\u001b[43m)\u001b[49m\n\u001b[0;32m    975\u001b[0m \u001b[38;5;28;01mexcept\u001b[39;00m:\n\u001b[0;32m    976\u001b[0m     \u001b[38;5;66;03m# Cleanup if the child failed starting.\u001b[39;00m\n\u001b[0;32m    977\u001b[0m     \u001b[38;5;28;01mfor\u001b[39;00m f \u001b[38;5;129;01min\u001b[39;00m \u001b[38;5;28mfilter\u001b[39m(\u001b[38;5;28;01mNone\u001b[39;00m, (\u001b[38;5;28mself\u001b[39m\u001b[38;5;241m.\u001b[39mstdin, \u001b[38;5;28mself\u001b[39m\u001b[38;5;241m.\u001b[39mstdout, \u001b[38;5;28mself\u001b[39m\u001b[38;5;241m.\u001b[39mstderr)):\n",
      "File \u001b[1;32m~\\AppData\\Local\\Programs\\Python\\Python310\\lib\\subprocess.py:1435\u001b[0m, in \u001b[0;36mPopen._execute_child\u001b[1;34m(self, args, executable, preexec_fn, close_fds, pass_fds, cwd, env, startupinfo, creationflags, shell, p2cread, p2cwrite, c2pread, c2pwrite, errread, errwrite, unused_restore_signals, unused_gid, unused_gids, unused_uid, unused_umask, unused_start_new_session)\u001b[0m\n\u001b[0;32m   1433\u001b[0m \u001b[38;5;66;03m# Start the process\u001b[39;00m\n\u001b[0;32m   1434\u001b[0m \u001b[38;5;28;01mtry\u001b[39;00m:\n\u001b[1;32m-> 1435\u001b[0m     hp, ht, pid, tid \u001b[38;5;241m=\u001b[39m \u001b[43m_winapi\u001b[49m\u001b[38;5;241;43m.\u001b[39;49m\u001b[43mCreateProcess\u001b[49m\u001b[43m(\u001b[49m\u001b[43mexecutable\u001b[49m\u001b[43m,\u001b[49m\u001b[43m \u001b[49m\u001b[43margs\u001b[49m\u001b[43m,\u001b[49m\n\u001b[0;32m   1436\u001b[0m \u001b[43m                             \u001b[49m\u001b[38;5;66;43;03m# no special security\u001b[39;49;00m\n\u001b[0;32m   1437\u001b[0m \u001b[43m                             \u001b[49m\u001b[38;5;28;43;01mNone\u001b[39;49;00m\u001b[43m,\u001b[49m\u001b[43m \u001b[49m\u001b[38;5;28;43;01mNone\u001b[39;49;00m\u001b[43m,\u001b[49m\n\u001b[0;32m   1438\u001b[0m \u001b[43m                             \u001b[49m\u001b[38;5;28;43mint\u001b[39;49m\u001b[43m(\u001b[49m\u001b[38;5;129;43;01mnot\u001b[39;49;00m\u001b[43m \u001b[49m\u001b[43mclose_fds\u001b[49m\u001b[43m)\u001b[49m\u001b[43m,\u001b[49m\n\u001b[0;32m   1439\u001b[0m \u001b[43m                             \u001b[49m\u001b[43mcreationflags\u001b[49m\u001b[43m,\u001b[49m\n\u001b[0;32m   1440\u001b[0m \u001b[43m                             \u001b[49m\u001b[43menv\u001b[49m\u001b[43m,\u001b[49m\n\u001b[0;32m   1441\u001b[0m \u001b[43m                             \u001b[49m\u001b[43mcwd\u001b[49m\u001b[43m,\u001b[49m\n\u001b[0;32m   1442\u001b[0m \u001b[43m                             \u001b[49m\u001b[43mstartupinfo\u001b[49m\u001b[43m)\u001b[49m\n\u001b[0;32m   1443\u001b[0m \u001b[38;5;28;01mfinally\u001b[39;00m:\n\u001b[0;32m   1444\u001b[0m     \u001b[38;5;66;03m# Child is launched. Close the parent's copy of those pipe\u001b[39;00m\n\u001b[0;32m   1445\u001b[0m     \u001b[38;5;66;03m# handles that only the child should have open.  You need\u001b[39;00m\n\u001b[1;32m   (...)\u001b[0m\n\u001b[0;32m   1448\u001b[0m     \u001b[38;5;66;03m# pipe will not close when the child process exits and the\u001b[39;00m\n\u001b[0;32m   1449\u001b[0m     \u001b[38;5;66;03m# ReadFile will hang.\u001b[39;00m\n\u001b[0;32m   1450\u001b[0m     \u001b[38;5;28mself\u001b[39m\u001b[38;5;241m.\u001b[39m_close_pipe_fds(p2cread, p2cwrite,\n\u001b[0;32m   1451\u001b[0m                          c2pread, c2pwrite,\n\u001b[0;32m   1452\u001b[0m                          errread, errwrite)\n",
      "\u001b[1;31mFileNotFoundError\u001b[0m: [WinError 2] The system cannot find the file specified"
     ]
    }
   ],
   "source": [
    "Image(url= \"./tmp/profiles.png\")"
   ]
  },
  {
   "cell_type": "markdown",
   "metadata": {},
   "source": [
    "## Plotting mesh\n",
    "\n",
    "First we create a temporary file containing the edges created starting from the profiles."
   ]
  },
  {
   "cell_type": "code",
   "execution_count": null,
   "metadata": {},
   "outputs": [],
   "source": [
    "edges_fname, profiles_fname = write_mesh(smsh, 'top')\n",
    "edges_low_fname, profiles_low_fname = write_mesh(low_mesh, 'low')\n",
    "poly_fname = write_poly(smsh, 'poly')\n",
    "poly_low_fname = write_poly(low_mesh, 'poly_low')"
   ]
  },
  {
   "cell_type": "code",
   "execution_count": null,
   "metadata": {},
   "outputs": [
    {
     "name": "stdout",
     "output_type": "stream",
     "text": [
      "done\n"
     ]
    }
   ],
   "source": [
    "%%bash -s \"$path\" \"$edges_fname\" \"$profiles_fname\" \"$poly_low_fname\" \"$poly_fname\"\n",
    "\n",
    "ext='-R94/107/-6/7/0/200'\n",
    "prj='-Jm1 -Jz-0.01 -p100/20/0'\n",
    "out='./tmp/edges.ps'\n",
    "DATA=$1'/cs*'\n",
    "\n",
    "gmt psbasemap $ext $prj -K -B+b > $out\n",
    "\n",
    "gmt psxyz $4 $ext $prj -O -K -Wdefault,orange -G240 >> $out\n",
    "gmt psxyz $5 $ext $prj -O -K -Wthinnest,purple -G220 >> $out\n",
    "\n",
    "for f in $DATA; \n",
    "do \n",
    "    gmt psxyz $f $ext $prj -O -K -Wthinner,green,- >> $out\n",
    "done\n",
    "\n",
    "gmt psbasemap $ext $prj -O -B+b >> $out\n",
    "gmt psconvert $out  -A0.5c -P -Tg \n",
    "echo 'done'"
   ]
  },
  {
   "cell_type": "code",
   "execution_count": null,
   "metadata": {},
   "outputs": [
    {
     "data": {
      "text/html": [
       "<img src=\"./tmp/edges.png\"/>"
      ],
      "text/plain": [
       "<IPython.core.display.Image object>"
      ]
     },
     "execution_count": 111,
     "metadata": {},
     "output_type": "execute_result"
    }
   ],
   "source": [
    "Image(url= \"./tmp/edges.png\")"
   ]
  },
  {
   "cell_type": "markdown",
   "metadata": {},
   "source": [
    "## Plotting virtual faults"
   ]
  },
  {
   "cell_type": "code",
   "execution_count": 1,
   "metadata": {},
   "outputs": [
    {
     "ename": "NameError",
     "evalue": "name 'create_inslab_meshes' is not defined",
     "output_type": "error",
     "traceback": [
      "\u001b[1;31m---------------------------------------------------------------------------\u001b[0m",
      "\u001b[1;31mNameError\u001b[0m                                 Traceback (most recent call last)",
      "Cell \u001b[1;32mIn[1], line 3\u001b[0m\n\u001b[0;32m      1\u001b[0m dips \u001b[38;5;241m=\u001b[39m [\u001b[38;5;241m45\u001b[39m, \u001b[38;5;241m135\u001b[39m]\n\u001b[0;32m      2\u001b[0m sampling \u001b[38;5;241m=\u001b[39m \u001b[38;5;241m20.\u001b[39m\n\u001b[1;32m----> 3\u001b[0m ohs \u001b[38;5;241m=\u001b[39m \u001b[43mcreate_inslab_meshes\u001b[49m(smsh, dips, slab_thickness, sampling)\n",
      "\u001b[1;31mNameError\u001b[0m: name 'create_inslab_meshes' is not defined"
     ]
    }
   ],
   "source": [
    "dips = [45, 135]\n",
    "sampling = 20.\n",
    "ohs = create_inslab_meshes(smsh, dips, slab_thickness, sampling)"
   ]
  },
  {
   "cell_type": "code",
   "execution_count": null,
   "metadata": {},
   "outputs": [],
   "source": [
    "!mkdir -p tmp/vf"
   ]
  },
  {
   "cell_type": "code",
   "execution_count": null,
   "metadata": {},
   "outputs": [],
   "source": [
    "for key in ohs:\n",
    "    for i, fault in enumerate(ohs[key]):\n",
    "        fou = open(os.path.join(tmp_path, 'vf', 'vf_{:d}_{:03d}.txt'.format(key, i)), 'w')\n",
    "        for pro in fault:\n",
    "            fou.write('>\\n')\n",
    "            for p in pro:\n",
    "                fou.write('{:.5f},{:.5f},{:.5f}\\n'.format(p.longitude, p.latitude, p.depth))\n",
    "        fou.write('>\\n')\n",
    "        fou.close()"
   ]
  },
  {
   "cell_type": "code",
   "execution_count": null,
   "metadata": {},
   "outputs": [],
   "source": [
    "sampling = 15.\n",
    "tmp_mesh = create_from_profiles(ohs[135][4], sampling, sampling, idl, alg)\n",
    "vf_edges_fname, vf_profiles_fname = write_mesh(tmp_mesh, 'vf')\n",
    "vf_poly_fname = write_poly(tmp_mesh, 'vf_poly')"
   ]
  },
  {
   "cell_type": "code",
   "execution_count": null,
   "metadata": {},
   "outputs": [
    {
     "name": "stdout",
     "output_type": "stream",
     "text": [
      "done\n"
     ]
    }
   ],
   "source": [
    "%%bash -s \"$path\" \"$vf_edges_fname\"  \"$vf_profiles_fname\" \"$poly_low_fname\"  \"$poly_fname\" \"$vf_poly_fname\"\n",
    "\n",
    "ext='-R94/107/-6/7/0/200'\n",
    "prj='-Jm1 -Jz-0.01 -p220/30/0'\n",
    "out='./tmp/virtual_faults0.ps'\n",
    "DATA=$1'cs*'\n",
    "\n",
    "gmt psbasemap $ext $prj -K -B+b > $out\n",
    "\n",
    "gmt psxyz $4 $ext $prj -O -K -Wdefault,orange -G240 >> $out\n",
    "gmt psxyz $5 $ext $prj -O -K -Wthinnest,purple -G220 >> $out\n",
    "gmt psxyz $6 $ext $prj -O -K -Wthinnest,red -G200 >> $out\n",
    "gmt psxyz $4 $ext $prj -O -K -Wdefault,orange,. >> $out\n",
    "gmt psxyz $5 $ext $prj -O -K -Wthinnest,purple >> $out\n",
    "\n",
    "gmt psxyz ./tmp/vf/vf_135_004.txt $ext $prj -O -K -Wthinner,red >> $out\n",
    "\n",
    "gmt psbasemap $ext $prj -O -B+n >> $out\n",
    "gmt psconvert $out -A0.5c -P -Tg \n",
    "\n",
    "echo 'done'"
   ]
  },
  {
   "cell_type": "code",
   "execution_count": null,
   "metadata": {},
   "outputs": [
    {
     "data": {
      "text/html": [
       "<img src=\"./tmp/virtual_faults0.png\"/>"
      ],
      "text/plain": [
       "<IPython.core.display.Image object>"
      ]
     },
     "execution_count": 117,
     "metadata": {},
     "output_type": "execute_result"
    }
   ],
   "source": [
    "Image(url= \"./tmp/virtual_faults0.png\")"
   ]
  },
  {
   "cell_type": "code",
   "execution_count": null,
   "metadata": {},
   "outputs": [
    {
     "name": "stdout",
     "output_type": "stream",
     "text": [
      "done\n"
     ]
    }
   ],
   "source": [
    "%%bash -s \"$path\" \"$vf_edges_fname\"  \"$vf_profiles_fname\" \"$poly_low_fname\"  \"$poly_fname\" \"$vf_poly_fname\"\n",
    "\n",
    "ext='-R94/107/-6/7/0/200'\n",
    "prj='-Jm1 -Jz-0.01 -p3200/10/0'\n",
    "out='./tmp/virtual_faults1.ps'\n",
    "DATA=$1'cs*'\n",
    "\n",
    "gmt psbasemap $ext $prj -K -B+b > $out\n",
    "\n",
    "gmt psxyz $4 $ext $prj -O -K -Wdefault,orange -G240 >> $out\n",
    "gmt psxyz $5 $ext $prj -O -K -Wthinnest,purple -G220 >> $out\n",
    "gmt psxyz $6 $ext $prj -O -K -Wthinnest,red -G200 >> $out\n",
    "gmt psxyz $5 $ext $prj -O -K -Wthinnest,purple >> $out\n",
    "\n",
    "gmt psxyz ./tmp/vf/vf_135_004.txt $ext $prj -O -K -Wthinner,red >> $out\n",
    "\n",
    "gmt psbasemap $ext $prj -O -B+n >> $out\n",
    "gmt psconvert $out -A0.5c -P -Tg \n",
    "echo 'done'"
   ]
  },
  {
   "cell_type": "code",
   "execution_count": null,
   "metadata": {},
   "outputs": [
    {
     "data": {
      "text/html": [
       "<img src=\"./tmp/virtual_faults1.png\"/>"
      ],
      "text/plain": [
       "<IPython.core.display.Image object>"
      ]
     },
     "execution_count": 119,
     "metadata": {},
     "output_type": "execute_result"
    }
   ],
   "source": [
    "Image(url= \"./tmp/virtual_faults1.png\")"
   ]
  }
 ],
 "metadata": {
  "kernelspec": {
   "display_name": ".venv",
   "language": "python",
   "name": "python3"
  },
  "language_info": {
   "codemirror_mode": {
    "name": "ipython",
    "version": 3
   },
   "file_extension": ".py",
   "mimetype": "text/x-python",
   "name": "python",
   "nbconvert_exporter": "python",
   "pygments_lexer": "ipython3",
   "version": "3.10.0"
  }
 },
 "nbformat": 4,
 "nbformat_minor": 4
}
