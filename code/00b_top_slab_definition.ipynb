{
 "cells": [
  {
   "cell_type": "markdown",
   "metadata": {},
   "source": [
    "# Datasets and cross-sections preparation"
   ]
  },
  {
   "cell_type": "code",
   "execution_count": 1,
   "metadata": {},
   "outputs": [],
   "source": [
    "import os\n",
    "import sys\n",
    "import openquake.sub as sub\n",
    "\n",
    "# Get the path of the mbtk subduction module\n",
    "path = sub.__path__[0]"
   ]
  },
  {
   "cell_type": "markdown",
   "metadata": {},
   "source": [
    "## 1. Pickle the catalogue\n",
    "First we pickle the catalogue, that is, we create a compact representation of this dataset that can be read quickly by python."
   ]
  },
  {
   "cell_type": "code",
   "execution_count": 6,
   "metadata": {},
   "outputs": [],
   "source": [
    "import pickle\n",
    "\n",
    "\n",
    "newcat = 1\n",
    "output_path = './catalogue_ext.p'\n",
    "fou = open(output_path, 'wb')\n",
    "pickle.dump(newcat, fou)\n",
    "fou.close()"
   ]
  },
  {
   "cell_type": "code",
   "execution_count": null,
   "metadata": {},
   "outputs": [
    {
     "name": "stdout",
     "output_type": "stream",
     "text": [
      "./../data/catalogue/wpg_catalogue_sumatra.csv\n"
     ]
    }
   ],
   "source": [
    "# !python $path/pickle_catalogue.py ./../data/catalogue/wpg_catalogue_sumatra.csv\n",
    "# !mv catalogue_ext.p ./../data/catalogue/wpg_catalogue_sumatra.p\n",
    "# !rm catalogue_ori.p\n",
    "\n",
    "import shutil\n",
    "import os\n",
    "import openquake.sub.pickle_catalogue as pick_cat\n",
    "\n",
    "catalog = \"./../data/catalogue/Leyte_ISCGEMv10_200km.csv\"\n",
    "pick_cat.main(catalog)\n",
    "\n",
    "source = \"catalogue_ext.p\"\n",
    "destination = \"../data/catalogue/wpg_Leyte_ISCGEMv10_200km.p\"\n",
    "\n",
    "shutil.move(source, destination)\n",
    "\n",
    "if os.path.exists(\"catalogue_ori.p\"):\n",
    "    os.remove(\"catalogue_ori.p\")\n"
   ]
  },
  {
   "cell_type": "markdown",
   "metadata": {},
   "source": [
    "## 2. Create cross-sections and Plot cross-sections"
   ]
  },
  {
   "cell_type": "code",
<<<<<<< Updated upstream
   "execution_count": 13,
=======
   "execution_count": 1,
>>>>>>> Stashed changes
   "metadata": {},
   "outputs": [
    {
     "ename": "KeyboardInterrupt",
     "evalue": "",
     "output_type": "error",
     "traceback": [
      "\u001b[1;31m---------------------------------------------------------------------------\u001b[0m",
      "\u001b[1;31mKeyboardInterrupt\u001b[0m                         Traceback (most recent call last)",
      "Cell \u001b[1;32mIn[1], line 10\u001b[0m\n\u001b[0;32m      6\u001b[0m \u001b[38;5;28;01mimport\u001b[39;00m \u001b[38;5;21;01mopenquake\u001b[39;00m\u001b[38;5;21;01m.\u001b[39;00m\u001b[38;5;21;01msub\u001b[39;00m\u001b[38;5;21;01m.\u001b[39;00m\u001b[38;5;21;01mcreate_multiple_cross_sections\u001b[39;00m \u001b[38;5;28;01mas\u001b[39;00m \u001b[38;5;21;01mcmcs\u001b[39;00m\n\u001b[0;32m      8\u001b[0m config_fname \u001b[38;5;241m=\u001b[39m \u001b[38;5;124m'\u001b[39m\u001b[38;5;124m./../ini/create_profiles.txt\u001b[39m\u001b[38;5;124m'\u001b[39m\n\u001b[1;32m---> 10\u001b[0m \u001b[43mcmcs\u001b[49m\u001b[38;5;241;43m.\u001b[39;49m\u001b[43mmain\u001b[49m\u001b[43m(\u001b[49m\u001b[43mconfig_fname\u001b[49m\u001b[38;5;241;43m=\u001b[39;49m\u001b[43mconfig_fname\u001b[49m\u001b[43m)\u001b[49m\n\u001b[0;32m     12\u001b[0m source \u001b[38;5;241m=\u001b[39m \u001b[38;5;124m\"\u001b[39m\u001b[38;5;124mcs_traces.cs\u001b[39m\u001b[38;5;124m\"\u001b[39m\n\u001b[0;32m     13\u001b[0m destination \u001b[38;5;241m=\u001b[39m \u001b[38;5;124m\"\u001b[39m\u001b[38;5;124m../model/cs_traces.txt\u001b[39m\u001b[38;5;124m\"\u001b[39m\n",
      "File \u001b[1;32mc:\\Users\\USER\\Desktop\\subduction\\oq-mbtk-sub-example\\.venv\\lib\\site-packages\\openquake\\sub\\create_multiple_cross_sections.py:180\u001b[0m, in \u001b[0;36mmain\u001b[1;34m(config_fname)\u001b[0m\n\u001b[0;32m    177\u001b[0m     cat \u001b[38;5;241m=\u001b[39m pickle\u001b[38;5;241m.\u001b[39mload(fin)\n\u001b[0;32m    179\u001b[0m \u001b[38;5;66;03m# Get cross-sections\u001b[39;00m\n\u001b[1;32m--> 180\u001b[0m cs_dict \u001b[38;5;241m=\u001b[39m \u001b[43mget_cs\u001b[49m\u001b[43m(\u001b[49m\u001b[43mtrench\u001b[49m\u001b[43m,\u001b[49m\u001b[43m \u001b[49m\u001b[43margv\u001b[49m\u001b[43m,\u001b[49m\u001b[43m \u001b[49m\u001b[43mcs_length\u001b[49m\u001b[43m,\u001b[49m\u001b[43m \u001b[49m\u001b[43mcs_depth\u001b[49m\u001b[43m,\u001b[49m\u001b[43m \u001b[49m\u001b[43minterdistance\u001b[49m\u001b[43m,\u001b[49m\u001b[43m \u001b[49m\u001b[43mqual\u001b[49m\u001b[43m)\u001b[49m\n\u001b[0;32m    182\u001b[0m \u001b[38;5;66;03m# Plotting\u001b[39;00m\n\u001b[0;32m    183\u001b[0m \u001b[38;5;28;01mif\u001b[39;00m \u001b[38;5;28;01mFalse\u001b[39;00m:\n",
      "File \u001b[1;32mc:\\Users\\USER\\Desktop\\subduction\\oq-mbtk-sub-example\\.venv\\lib\\site-packages\\openquake\\sub\\create_multiple_cross_sections.py:38\u001b[0m, in \u001b[0;36mget_cs\u001b[1;34m(trench, ini_filename, cs_len, cs_depth, interdistance, qual, fname_out_cs)\u001b[0m\n\u001b[0;32m     35\u001b[0m fou \u001b[38;5;241m=\u001b[39m \u001b[38;5;28mopen\u001b[39m(fname_out_cs, \u001b[38;5;124m'\u001b[39m\u001b[38;5;124mw\u001b[39m\u001b[38;5;124m'\u001b[39m)\n\u001b[0;32m     37\u001b[0m cs_dict \u001b[38;5;241m=\u001b[39m {}\n\u001b[1;32m---> 38\u001b[0m \u001b[38;5;28;01mfor\u001b[39;00m idx, (cs, out) \u001b[38;5;129;01min\u001b[39;00m \u001b[38;5;28menumerate\u001b[39m(\n\u001b[0;32m     39\u001b[0m         trench\u001b[38;5;241m.\u001b[39miterate_cross_sections(interdistance, cs_len)):\n\u001b[0;32m     41\u001b[0m     \u001b[38;5;28;01mif\u001b[39;00m cs \u001b[38;5;129;01mis\u001b[39;00m \u001b[38;5;129;01mnot\u001b[39;00m \u001b[38;5;28;01mNone\u001b[39;00m:\n\u001b[0;32m     42\u001b[0m         cs_dict[\u001b[38;5;124m'\u001b[39m\u001b[38;5;132;01m%s\u001b[39;00m\u001b[38;5;124m'\u001b[39m \u001b[38;5;241m%\u001b[39m idx] \u001b[38;5;241m=\u001b[39m cs\n",
      "File \u001b[1;32mc:\\Users\\USER\\Desktop\\subduction\\oq-mbtk-sub-example\\.venv\\lib\\site-packages\\openquake\\sub\\cross_sections.py:548\u001b[0m, in \u001b[0;36mTrench.iterate_cross_sections\u001b[1;34m(self, distance, length, wei1)\u001b[0m\n\u001b[0;32m    545\u001b[0m avg_azim \u001b[38;5;241m=\u001b[39m \u001b[38;5;28mself\u001b[39m\u001b[38;5;241m.\u001b[39mget_azimuth()\n\u001b[0;32m    546\u001b[0m overall_azim \u001b[38;5;241m=\u001b[39m (avg_azim \u001b[38;5;241m+\u001b[39m \u001b[38;5;241m90\u001b[39m) \u001b[38;5;241m%\u001b[39m \u001b[38;5;241m360\u001b[39m\n\u001b[1;32m--> 548\u001b[0m trch \u001b[38;5;241m=\u001b[39m \u001b[38;5;28;43mself\u001b[39;49m\u001b[38;5;241;43m.\u001b[39;49m\u001b[43mresample\u001b[49m\u001b[43m(\u001b[49m\u001b[43mdistance\u001b[49m\u001b[43m)\u001b[49m\n\u001b[0;32m    549\u001b[0m css \u001b[38;5;241m=\u001b[39m []\n\u001b[0;32m    550\u001b[0m lng \u001b[38;5;241m=\u001b[39m length\n",
      "File \u001b[1;32mc:\\Users\\USER\\Desktop\\subduction\\oq-mbtk-sub-example\\.venv\\lib\\site-packages\\openquake\\sub\\cross_sections.py:505\u001b[0m, in \u001b[0;36mTrench.resample\u001b[1;34m(self, distance)\u001b[0m\n\u001b[0;32m    497\u001b[0m \u001b[38;5;28;01mdef\u001b[39;00m \u001b[38;5;21mresample\u001b[39m(\u001b[38;5;28mself\u001b[39m, distance):\n\u001b[0;32m    498\u001b[0m \u001b[38;5;250m    \u001b[39m\u001b[38;5;124;03m\"\"\"\u001b[39;00m\n\u001b[0;32m    499\u001b[0m \u001b[38;5;124;03m    This resamples the trench axis given a certain distance and computes\u001b[39;00m\n\u001b[0;32m    500\u001b[0m \u001b[38;5;124;03m    the strike at each node.\u001b[39;00m\n\u001b[1;32m   (...)\u001b[0m\n\u001b[0;32m    503\u001b[0m \u001b[38;5;124;03m        The sampling distance [in km]\u001b[39;00m\n\u001b[0;32m    504\u001b[0m \u001b[38;5;124;03m    \"\"\"\u001b[39;00m\n\u001b[1;32m--> 505\u001b[0m     naxis \u001b[38;5;241m=\u001b[39m \u001b[43mrsmpl\u001b[49m\u001b[43m(\u001b[49m\u001b[38;5;28;43mself\u001b[39;49m\u001b[38;5;241;43m.\u001b[39;49m\u001b[43maxis\u001b[49m\u001b[43m[\u001b[49m\u001b[43m:\u001b[49m\u001b[43m,\u001b[49m\u001b[43m \u001b[49m\u001b[38;5;241;43m0\u001b[39;49m\u001b[43m]\u001b[49m\u001b[43m,\u001b[49m\u001b[43m \u001b[49m\u001b[38;5;28;43mself\u001b[39;49m\u001b[38;5;241;43m.\u001b[39;49m\u001b[43maxis\u001b[49m\u001b[43m[\u001b[49m\u001b[43m:\u001b[49m\u001b[43m,\u001b[49m\u001b[43m \u001b[49m\u001b[38;5;241;43m1\u001b[39;49m\u001b[43m]\u001b[49m\u001b[43m,\u001b[49m\u001b[43m \u001b[49m\u001b[43mdistance\u001b[49m\u001b[43m)\u001b[49m\n\u001b[0;32m    506\u001b[0m     \u001b[38;5;28;01mif\u001b[39;00m \u001b[38;5;28mlen\u001b[39m(\u001b[38;5;28mself\u001b[39m\u001b[38;5;241m.\u001b[39maxis) \u001b[38;5;241m<\u001b[39m \u001b[38;5;241m3\u001b[39m:\n\u001b[0;32m    507\u001b[0m         \u001b[38;5;28;01mraise\u001b[39;00m \u001b[38;5;167;01mValueError\u001b[39;00m(\u001b[38;5;124m'\u001b[39m\u001b[38;5;124mSmall array\u001b[39m\u001b[38;5;124m'\u001b[39m)\n",
      "File \u001b[1;32mc:\\Users\\USER\\Desktop\\subduction\\oq-mbtk-sub-example\\.venv\\lib\\site-packages\\openquake\\sub\\cross_sections.py:696\u001b[0m, in \u001b[0;36mrsmpl\u001b[1;34m(ix, iy, sampling_dist)\u001b[0m\n\u001b[0;32m    692\u001b[0m     \u001b[38;5;28;01mbreak\u001b[39;00m\n\u001b[0;32m    693\u001b[0m \u001b[38;5;66;03m#\u001b[39;00m\n\u001b[0;32m    694\u001b[0m \u001b[38;5;66;03m# compute the distance between the starting point and the next point\u001b[39;00m\n\u001b[0;32m    695\u001b[0m \u001b[38;5;66;03m# on the profile\u001b[39;00m\n\u001b[1;32m--> 696\u001b[0m segment_len \u001b[38;5;241m=\u001b[39m \u001b[43mdistance\u001b[49m\u001b[43m(\u001b[49m\u001b[43mslo\u001b[49m\u001b[43m,\u001b[49m\u001b[43m \u001b[49m\u001b[43msla\u001b[49m\u001b[43m,\u001b[49m\u001b[43m \u001b[49m\u001b[43msde\u001b[49m\u001b[43m,\u001b[49m\u001b[43m \u001b[49m\u001b[43mlo\u001b[49m\u001b[43m[\u001b[49m\u001b[43midx\u001b[49m\u001b[38;5;241;43m+\u001b[39;49m\u001b[43mdirect\u001b[49m\u001b[43m]\u001b[49m\u001b[43m,\u001b[49m\u001b[43m \u001b[49m\u001b[43mla\u001b[49m\u001b[43m[\u001b[49m\u001b[43midx\u001b[49m\u001b[38;5;241;43m+\u001b[39;49m\u001b[43mdirect\u001b[49m\u001b[43m]\u001b[49m\u001b[43m,\u001b[49m\n\u001b[0;32m    697\u001b[0m \u001b[43m                       \u001b[49m\u001b[43mde\u001b[49m\u001b[43m[\u001b[49m\u001b[43midx\u001b[49m\u001b[38;5;241;43m+\u001b[39;49m\u001b[43mdirect\u001b[49m\u001b[43m]\u001b[49m\u001b[43m)\u001b[49m\n\u001b[0;32m    698\u001b[0m \u001b[38;5;66;03m#\u001b[39;00m\n\u001b[0;32m    699\u001b[0m \u001b[38;5;66;03m# search for the point\u001b[39;00m\n\u001b[0;32m    700\u001b[0m \u001b[38;5;28;01mif\u001b[39;00m cdist\u001b[38;5;241m+\u001b[39msegment_len \u001b[38;5;241m>\u001b[39m sampling_dist:\n\u001b[0;32m    701\u001b[0m     \u001b[38;5;66;03m#\u001b[39;00m\n\u001b[0;32m    702\u001b[0m     \u001b[38;5;66;03m# this is the lenght of the last segment-fraction needed to\u001b[39;00m\n\u001b[0;32m    703\u001b[0m     \u001b[38;5;66;03m# obtain the sampling distance\u001b[39;00m\n",
      "File \u001b[1;32mc:\\Users\\USER\\Desktop\\subduction\\oq-mbtk-sub-example\\.venv\\lib\\site-packages\\openquake\\hazardlib\\geo\\geodetic.py:161\u001b[0m, in \u001b[0;36mdistance\u001b[1;34m(lons1, lats1, depths1, lons2, lats2, depths2)\u001b[0m\n\u001b[0;32m    147\u001b[0m \u001b[38;5;28;01mdef\u001b[39;00m \u001b[38;5;21mdistance\u001b[39m(lons1, lats1, depths1, lons2, lats2, depths2):\n\u001b[0;32m    148\u001b[0m \u001b[38;5;250m    \u001b[39m\u001b[38;5;124;03m\"\"\"\u001b[39;00m\n\u001b[0;32m    149\u001b[0m \u001b[38;5;124;03m    Calculate a distance between two points (or collections of points)\u001b[39;00m\n\u001b[0;32m    150\u001b[0m \u001b[38;5;124;03m    considering points' depth.\u001b[39;00m\n\u001b[1;32m   (...)\u001b[0m\n\u001b[0;32m    159\u001b[0m \u001b[38;5;124;03m        a difference between depths.\u001b[39;00m\n\u001b[0;32m    160\u001b[0m \u001b[38;5;124;03m    \"\"\"\u001b[39;00m\n\u001b[1;32m--> 161\u001b[0m     hdist \u001b[38;5;241m=\u001b[39m \u001b[43mgeodetic_distance\u001b[49m\u001b[43m(\u001b[49m\u001b[43mlons1\u001b[49m\u001b[43m,\u001b[49m\u001b[43m \u001b[49m\u001b[43mlats1\u001b[49m\u001b[43m,\u001b[49m\u001b[43m \u001b[49m\u001b[43mlons2\u001b[49m\u001b[43m,\u001b[49m\u001b[43m \u001b[49m\u001b[43mlats2\u001b[49m\u001b[43m)\u001b[49m\n\u001b[0;32m    162\u001b[0m     vdist \u001b[38;5;241m=\u001b[39m depths1 \u001b[38;5;241m-\u001b[39m depths2\n\u001b[0;32m    163\u001b[0m     \u001b[38;5;28;01mreturn\u001b[39;00m np\u001b[38;5;241m.\u001b[39msqrt(hdist \u001b[38;5;241m*\u001b[39m\u001b[38;5;241m*\u001b[39m \u001b[38;5;241m2\u001b[39m \u001b[38;5;241m+\u001b[39m vdist \u001b[38;5;241m*\u001b[39m\u001b[38;5;241m*\u001b[39m \u001b[38;5;241m2\u001b[39m)\n",
      "File \u001b[1;32mc:\\Users\\USER\\Desktop\\subduction\\oq-mbtk-sub-example\\.venv\\lib\\site-packages\\openquake\\hazardlib\\geo\\geodetic.py:84\u001b[0m, in \u001b[0;36mgeodetic_distance\u001b[1;34m(lons1, lats1, lons2, lats2, diameter)\u001b[0m\n\u001b[0;32m     68\u001b[0m \u001b[38;5;250m\u001b[39m\u001b[38;5;124;03m\"\"\"\u001b[39;00m\n\u001b[0;32m     69\u001b[0m \u001b[38;5;124;03mCalculate the geodetic distance between two points or two collections\u001b[39;00m\n\u001b[0;32m     70\u001b[0m \u001b[38;5;124;03mof points.\u001b[39;00m\n\u001b[1;32m   (...)\u001b[0m\n\u001b[0;32m     79\u001b[0m \u001b[38;5;124;03m    Distance in km, floating point scalar or numpy array of such.\u001b[39;00m\n\u001b[0;32m     80\u001b[0m \u001b[38;5;124;03m\"\"\"\u001b[39;00m\n\u001b[0;32m     81\u001b[0m lons1, lats1, lons2, lats2 \u001b[38;5;241m=\u001b[39m _prepare_coords(lons1, lats1, lons2, lats2)\n\u001b[0;32m     82\u001b[0m distance \u001b[38;5;241m=\u001b[39m np\u001b[38;5;241m.\u001b[39marcsin(np\u001b[38;5;241m.\u001b[39msqrt(\n\u001b[0;32m     83\u001b[0m     np\u001b[38;5;241m.\u001b[39msin((lats1 \u001b[38;5;241m-\u001b[39m lats2) \u001b[38;5;241m/\u001b[39m \u001b[38;5;241m2.0\u001b[39m) \u001b[38;5;241m*\u001b[39m\u001b[38;5;241m*\u001b[39m \u001b[38;5;241m2.0\u001b[39m\n\u001b[1;32m---> 84\u001b[0m     \u001b[38;5;241m+\u001b[39m np\u001b[38;5;241m.\u001b[39mcos(lats1) \u001b[38;5;241m*\u001b[39m \u001b[43mnp\u001b[49m\u001b[38;5;241;43m.\u001b[39;49m\u001b[43mcos\u001b[49m\u001b[43m(\u001b[49m\u001b[43mlats2\u001b[49m\u001b[43m)\u001b[49m\n\u001b[0;32m     85\u001b[0m     \u001b[38;5;241m*\u001b[39m np\u001b[38;5;241m.\u001b[39msin((lons1 \u001b[38;5;241m-\u001b[39m lons2) \u001b[38;5;241m/\u001b[39m \u001b[38;5;241m2.0\u001b[39m) \u001b[38;5;241m*\u001b[39m\u001b[38;5;241m*\u001b[39m \u001b[38;5;241m2.0\u001b[39m\n\u001b[0;32m     86\u001b[0m ))\n\u001b[0;32m     87\u001b[0m \u001b[38;5;28;01mreturn\u001b[39;00m diameter \u001b[38;5;241m*\u001b[39m distance\n",
      "\u001b[1;31mKeyboardInterrupt\u001b[0m: "
     ]
    }
   ],
   "source": [
    "# !python $path/create_multiple_cross_sections.py ./../ini/create_profiles.txt\n",
    "# !mv cs_traces.cs ./../model/cs_traces.txt\n",
    "\n",
    "import os\n",
    "import shutil\n",
    "import openquake.sub.create_multiple_cross_sections as cmcs\n",
    "\n",
    "config_fname = './../ini/create_profiles.txt'\n",
    "\n",
    "cmcs.main(config_fname=config_fname)\n",
    "\n",
    "source = \"cs_traces.cs\"\n",
    "destination = \"../model/cs_traces.txt\"\n",
    "\n",
    "# Ensure the destination directory exists\n",
    "os.makedirs(os.path.dirname(destination), exist_ok=True)\n",
    "\n",
    "# Move the file\n",
    "shutil.move(source, destination)\n",
    "\n",
    "\n",
    "\n",
    "# # This method doesn't work since it depends on basemap \n",
    "# !python $path/plotting/plot_multiple_cross_sections_map.py ./../ini/create_profiles.txt ./../model/cs_traces.txt\\\n",
    "\n",
    "config_file = \"./../ini/create_profiles.txt\"\n",
    "cs_file = \"./../model/cs_traces.txt\"\n",
    "\n",
    "import openquake.sub.plotting.plot_multiple_cross_sections_map as pmcs_map\n",
    "\n",
    "pmcs_map.plot(config_file, cs_file)"
   ]
  },
  {
   "cell_type": "markdown",
   "metadata": {},
   "source": [
    "## 5. Plot cross-sections (All)"
   ]
  },
  {
   "cell_type": "code",
<<<<<<< Updated upstream
   "execution_count": 14,
=======
   "execution_count": null,
>>>>>>> Stashed changes
   "metadata": {},
   "outputs": [
    {
     "name": "stdout",
     "output_type": "stream",
     "text": [
      "setting trench axis\n",
      "setting catalogue\n",
      "setting catalogue\n",
      "setting slab\n",
      "setting crust/moho\n",
      "setting gcmt\n",
      "Parsing catalogue ...\n",
      "complete. Contains 49525 moment tensors\n",
      "setting topo\n",
      "setting litho/moho\n",
      "setting volcano\n",
      "No LITHO1.0...\n",
      "Created sections_cs/section_0.png\n",
      "setting trench axis\n",
      "setting catalogue\n",
      "setting catalogue\n",
      "setting slab\n",
      "setting crust/moho\n",
      "setting gcmt\n",
      "Parsing catalogue ...\n",
      "complete. Contains 49525 moment tensors\n",
      "setting topo\n",
      "setting litho/moho\n",
      "setting volcano\n",
      "No LITHO1.0...\n",
      "Created sections_cs/section_1.png\n",
      "setting trench axis\n",
      "setting catalogue\n",
      "setting catalogue\n",
      "setting slab\n",
      "setting crust/moho\n",
      "setting gcmt\n",
      "Parsing catalogue ...\n",
      "complete. Contains 49525 moment tensors\n",
      "setting topo\n",
      "setting litho/moho\n",
      "setting volcano\n",
      "No LITHO1.0...\n",
      "Created sections_cs/section_2.png\n",
      "setting trench axis\n",
      "setting catalogue\n",
      "setting catalogue\n",
      "setting slab\n",
      "setting crust/moho\n",
      "setting gcmt\n",
      "Parsing catalogue ...\n",
      "complete. Contains 49525 moment tensors\n",
      "setting topo\n",
      "setting litho/moho\n",
      "setting volcano\n",
      "No LITHO1.0...\n",
      "Created sections_cs/section_3.png\n",
      "setting trench axis\n",
      "setting catalogue\n",
      "setting catalogue\n",
      "setting slab\n",
      "setting crust/moho\n",
      "setting gcmt\n",
      "Parsing catalogue ...\n",
      "complete. Contains 49525 moment tensors\n",
      "setting topo\n",
      "setting litho/moho\n",
      "setting volcano\n",
      "No LITHO1.0...\n",
      "Created sections_cs/section_4.png\n",
      "setting trench axis\n",
      "setting catalogue\n",
      "setting catalogue\n",
      "setting slab\n",
      "setting crust/moho\n",
      "setting gcmt\n",
      "Parsing catalogue ...\n",
      "complete. Contains 49525 moment tensors\n",
      "setting topo\n",
      "setting litho/moho\n",
      "setting volcano\n",
      "No LITHO1.0...\n",
      "Created sections_cs/section_5.png\n",
      "setting trench axis\n",
      "setting catalogue\n",
      "setting catalogue\n",
      "setting slab\n",
      "setting crust/moho\n",
      "setting gcmt\n",
      "Parsing catalogue ...\n"
     ]
    },
    {
     "ename": "KeyboardInterrupt",
     "evalue": "",
     "output_type": "error",
     "traceback": [
      "\u001b[1;31m---------------------------------------------------------------------------\u001b[0m",
      "\u001b[1;31mKeyboardInterrupt\u001b[0m                         Traceback (most recent call last)",
      "Cell \u001b[1;32mIn[14], line 6\u001b[0m\n\u001b[0;32m      3\u001b[0m cs_file \u001b[38;5;241m=\u001b[39m \u001b[38;5;124m\"\u001b[39m\u001b[38;5;124m./../model/cs_traces.txt\u001b[39m\u001b[38;5;124m\"\u001b[39m\n\u001b[0;32m      4\u001b[0m output_folder \u001b[38;5;241m=\u001b[39m \u001b[38;5;124m\"\u001b[39m\u001b[38;5;124msections_cs/\u001b[39m\u001b[38;5;124m\"\u001b[39m\n\u001b[1;32m----> 6\u001b[0m \u001b[43mpmcs\u001b[49m\u001b[38;5;241;43m.\u001b[39;49m\u001b[43mpcs\u001b[49m\u001b[43m(\u001b[49m\u001b[43mcs_file\u001b[49m\u001b[43m,\u001b[49m\u001b[43m \u001b[49m\u001b[43moutput_folder\u001b[49m\u001b[43m)\u001b[49m\n",
      "File \u001b[1;32mc:\\Users\\USER\\Desktop\\subduction\\oq-mbtk-sub-example\\.venv\\lib\\site-packages\\openquake\\sub\\plotting\\plot_multiple_cross_sections.py:35\u001b[0m, in \u001b[0;36mpcs\u001b[1;34m(cs_fname, out_folder)\u001b[0m\n\u001b[0;32m     32\u001b[0m ids \u001b[38;5;241m=\u001b[39m aa[\u001b[38;5;241m5\u001b[39m]\n\u001b[0;32m     33\u001b[0m ini_fle \u001b[38;5;241m=\u001b[39m aa[\u001b[38;5;241m6\u001b[39m]\n\u001b[1;32m---> 35\u001b[0m fig \u001b[38;5;241m=\u001b[39m \u001b[43mplt_cs\u001b[49m\u001b[43m(\u001b[49m\u001b[43molo\u001b[49m\u001b[43m,\u001b[49m\u001b[43m \u001b[49m\u001b[43mola\u001b[49m\u001b[43m,\u001b[49m\u001b[43m \u001b[49m\u001b[43mdepth\u001b[49m\u001b[43m,\u001b[49m\u001b[43m \u001b[49m\u001b[43mlnght\u001b[49m\u001b[43m,\u001b[49m\u001b[43m \u001b[49m\u001b[43mstrike\u001b[49m\u001b[43m,\u001b[49m\u001b[43m \u001b[49m\u001b[43mids\u001b[49m\u001b[43m,\u001b[49m\u001b[43m \u001b[49m\u001b[43mini_fle\u001b[49m\u001b[43m)\u001b[49m\n\u001b[0;32m     36\u001b[0m name \u001b[38;5;241m=\u001b[39m \u001b[38;5;124m'\u001b[39m\u001b[38;5;124msection_\u001b[39m\u001b[38;5;132;01m%s\u001b[39;00m\u001b[38;5;124m.png\u001b[39m\u001b[38;5;124m'\u001b[39m \u001b[38;5;241m%\u001b[39m (ids)\n\u001b[0;32m     37\u001b[0m path \u001b[38;5;241m=\u001b[39m os\u001b[38;5;241m.\u001b[39mpath\u001b[38;5;241m.\u001b[39mjoin(out_folder, name)\n",
      "File \u001b[1;32mc:\\Users\\USER\\Desktop\\subduction\\oq-mbtk-sub-example\\.venv\\lib\\site-packages\\openquake\\sub\\plotting\\plot_cross_section.py:686\u001b[0m, in \u001b[0;36mplt_cs\u001b[1;34m(olo, ola, depp, lnght, strike, ids, ini_filename)\u001b[0m\n\u001b[0;32m    683\u001b[0m \u001b[38;5;28;01mexcept\u001b[39;00m:\n\u001b[0;32m    684\u001b[0m     gcmt_mag \u001b[38;5;241m=\u001b[39m \u001b[38;5;241m0.0\u001b[39m\n\u001b[1;32m--> 686\u001b[0m \u001b[43mcsda\u001b[49m\u001b[38;5;241;43m.\u001b[39;49m\u001b[43mset_gcmt\u001b[49m\u001b[43m(\u001b[49m\u001b[43mfname_gcmt\u001b[49m\u001b[43m,\u001b[49m\u001b[43m \u001b[49m\u001b[43mgcmt_mag\u001b[49m\u001b[38;5;241;43m=\u001b[39;49m\u001b[43mgcmt_mag\u001b[49m\u001b[43m)\u001b[49m\n\u001b[0;32m    687\u001b[0m csda\u001b[38;5;241m.\u001b[39mset_topo(fname_topo)\n\u001b[0;32m    688\u001b[0m csda\u001b[38;5;241m.\u001b[39mset_litho_moho_depth(fname_litho)\n",
      "File \u001b[1;32mc:\\Users\\USER\\Desktop\\subduction\\oq-mbtk-sub-example\\.venv\\lib\\site-packages\\openquake\\sub\\cross_sections.py:383\u001b[0m, in \u001b[0;36mCrossSectionData.set_gcmt\u001b[1;34m(self, filename, gcmt_mag, bffer)\u001b[0m\n\u001b[0;32m    381\u001b[0m \u001b[38;5;28mprint\u001b[39m(\u001b[38;5;124m'\u001b[39m\u001b[38;5;124msetting gcmt\u001b[39m\u001b[38;5;124m'\u001b[39m)\n\u001b[0;32m    382\u001b[0m parser \u001b[38;5;241m=\u001b[39m ParseNDKtoGCMT(filename)\n\u001b[1;32m--> 383\u001b[0m cmt_cat \u001b[38;5;241m=\u001b[39m \u001b[43mparser\u001b[49m\u001b[38;5;241;43m.\u001b[39;49m\u001b[43mread_file\u001b[49m\u001b[43m(\u001b[49m\u001b[43m)\u001b[49m\n\u001b[0;32m    384\u001b[0m \u001b[38;5;66;03m# prune to magnitude range\u001b[39;00m\n\u001b[0;32m    385\u001b[0m mags \u001b[38;5;241m=\u001b[39m cmt_cat\u001b[38;5;241m.\u001b[39mdata[\u001b[38;5;124m'\u001b[39m\u001b[38;5;124mmagnitude\u001b[39m\u001b[38;5;124m'\u001b[39m]\n",
      "File \u001b[1;32mc:\\Users\\USER\\Desktop\\subduction\\oq-mbtk-sub-example\\.venv\\lib\\site-packages\\openquake\\hmtk\\parsers\\catalogue\\gcmt_ndk_parser.py:174\u001b[0m, in \u001b[0;36mParseNDKtoGCMT.read_file\u001b[1;34m(self, start_year, end_year, use_centroid)\u001b[0m\n\u001b[0;32m    172\u001b[0m \u001b[38;5;28mprint\u001b[39m(\u001b[38;5;124m\"\u001b[39m\u001b[38;5;124mParsing catalogue ...\u001b[39m\u001b[38;5;124m\"\u001b[39m)\n\u001b[0;32m    173\u001b[0m \u001b[38;5;28;01mfor\u001b[39;00m iloc \u001b[38;5;129;01min\u001b[39;00m \u001b[38;5;28mrange\u001b[39m(\u001b[38;5;241m0\u001b[39m, \u001b[38;5;28mself\u001b[39m\u001b[38;5;241m.\u001b[39mcatalogue\u001b[38;5;241m.\u001b[39mnumber_gcmts):\n\u001b[1;32m--> 174\u001b[0m     \u001b[38;5;28mself\u001b[39m\u001b[38;5;241m.\u001b[39mcatalogue\u001b[38;5;241m.\u001b[39mgcmts[iloc] \u001b[38;5;241m=\u001b[39m \u001b[38;5;28;43mself\u001b[39;49m\u001b[38;5;241;43m.\u001b[39;49m\u001b[43mread_ndk_event\u001b[49m\u001b[43m(\u001b[49m\u001b[43mraw_data\u001b[49m\u001b[43m,\u001b[49m\u001b[43m \u001b[49m\u001b[43mid0\u001b[49m\u001b[43m)\u001b[49m\n\u001b[0;32m    175\u001b[0m     id0 \u001b[38;5;241m+\u001b[39m\u001b[38;5;241m=\u001b[39m \u001b[38;5;241m5\u001b[39m\n\u001b[0;32m    176\u001b[0m \u001b[38;5;28mprint\u001b[39m(\n\u001b[0;32m    177\u001b[0m     \u001b[38;5;124m\"\u001b[39m\u001b[38;5;124mcomplete. Contains \u001b[39m\u001b[38;5;132;01m%s\u001b[39;00m\u001b[38;5;124m moment tensors\u001b[39m\u001b[38;5;124m\"\u001b[39m\n\u001b[0;32m    178\u001b[0m     \u001b[38;5;241m%\u001b[39m \u001b[38;5;28mself\u001b[39m\u001b[38;5;241m.\u001b[39mcatalogue\u001b[38;5;241m.\u001b[39mget_number_tensors()\n\u001b[0;32m    179\u001b[0m )\n",
      "File \u001b[1;32mc:\\Users\\USER\\Desktop\\subduction\\oq-mbtk-sub-example\\.venv\\lib\\site-packages\\openquake\\hmtk\\parsers\\catalogue\\gcmt_ndk_parser.py:217\u001b[0m, in \u001b[0;36mParseNDKtoGCMT.read_ndk_event\u001b[1;34m(self, raw_data, id0)\u001b[0m\n\u001b[0;32m    215\u001b[0m \u001b[38;5;66;03m# Get Moment Tensor\u001b[39;00m\n\u001b[0;32m    216\u001b[0m ndkstring \u001b[38;5;241m=\u001b[39m raw_data[id0 \u001b[38;5;241m+\u001b[39m \u001b[38;5;241m3\u001b[39m]\u001b[38;5;241m.\u001b[39mrstrip(\u001b[38;5;124m\"\u001b[39m\u001b[38;5;130;01m\\n\u001b[39;00m\u001b[38;5;124m\"\u001b[39m)\n\u001b[1;32m--> 217\u001b[0m gcmt\u001b[38;5;241m.\u001b[39mmoment_tensor \u001b[38;5;241m=\u001b[39m \u001b[38;5;28;43mself\u001b[39;49m\u001b[38;5;241;43m.\u001b[39;49m\u001b[43m_get_moment_tensor_from_ndk_string\u001b[49m\u001b[43m(\u001b[49m\u001b[43mndkstring\u001b[49m\u001b[43m)\u001b[49m\n\u001b[0;32m    219\u001b[0m \u001b[38;5;66;03m# Get principal axes\u001b[39;00m\n\u001b[0;32m    220\u001b[0m ndkstring \u001b[38;5;241m=\u001b[39m raw_data[id0 \u001b[38;5;241m+\u001b[39m \u001b[38;5;241m4\u001b[39m]\u001b[38;5;241m.\u001b[39mrstrip(\u001b[38;5;124m\"\u001b[39m\u001b[38;5;130;01m\\n\u001b[39;00m\u001b[38;5;124m\"\u001b[39m)\n",
      "File \u001b[1;32mc:\\Users\\USER\\Desktop\\subduction\\oq-mbtk-sub-example\\.venv\\lib\\site-packages\\openquake\\hmtk\\parsers\\catalogue\\gcmt_ndk_parser.py:416\u001b[0m, in \u001b[0;36mParseNDKtoGCMT._get_moment_tensor_from_ndk_string\u001b[1;34m(self, ndk_string)\u001b[0m\n\u001b[0;32m    409\u001b[0m \u001b[38;5;250m\u001b[39m\u001b[38;5;124;03m\"\"\"\u001b[39;00m\n\u001b[0;32m    410\u001b[0m \u001b[38;5;124;03mReads the moment tensor from the ndk_string and returns an instance of\u001b[39;00m\n\u001b[0;32m    411\u001b[0m \u001b[38;5;124;03mthe GCMTMomentTensor class.\u001b[39;00m\n\u001b[0;32m    412\u001b[0m \u001b[38;5;124;03mBy default the ndk format uses the Up, South, East (USE) reference\u001b[39;00m\n\u001b[0;32m    413\u001b[0m \u001b[38;5;124;03msystem.\u001b[39;00m\n\u001b[0;32m    414\u001b[0m \u001b[38;5;124;03m\"\"\"\u001b[39;00m\n\u001b[0;32m    415\u001b[0m moment_tensor \u001b[38;5;241m=\u001b[39m GCMTMomentTensor(\u001b[38;5;124m\"\u001b[39m\u001b[38;5;124mUSE\u001b[39m\u001b[38;5;124m\"\u001b[39m)\n\u001b[1;32m--> 416\u001b[0m tensor_data \u001b[38;5;241m=\u001b[39m \u001b[43m_read_moment_tensor_from_ndk_string\u001b[49m\u001b[43m(\u001b[49m\u001b[43mndk_string\u001b[49m\u001b[43m,\u001b[49m\u001b[43m \u001b[49m\u001b[38;5;124;43m\"\u001b[39;49m\u001b[38;5;124;43mUSE\u001b[39;49m\u001b[38;5;124;43m\"\u001b[39;49m\u001b[43m)\u001b[49m\n\u001b[0;32m    417\u001b[0m moment_tensor\u001b[38;5;241m.\u001b[39mtensor \u001b[38;5;241m=\u001b[39m tensor_data[\u001b[38;5;241m0\u001b[39m]\n\u001b[0;32m    418\u001b[0m moment_tensor\u001b[38;5;241m.\u001b[39mtensor_sigma \u001b[38;5;241m=\u001b[39m tensor_data[\u001b[38;5;241m1\u001b[39m]\n",
      "File \u001b[1;32mc:\\Users\\USER\\Desktop\\subduction\\oq-mbtk-sub-example\\.venv\\lib\\site-packages\\openquake\\hmtk\\parsers\\catalogue\\gcmt_ndk_parser.py:129\u001b[0m, in \u001b[0;36m_read_moment_tensor_from_ndk_string\u001b[1;34m(ndk_string, system)\u001b[0m\n\u001b[0;32m    127\u001b[0m vector \u001b[38;5;241m=\u001b[39m np\u001b[38;5;241m.\u001b[39marray(vector)\n\u001b[0;32m    128\u001b[0m mrr, mtt, mpp, mrt, mrp, mtp \u001b[38;5;241m=\u001b[39m \u001b[38;5;28mtuple\u001b[39m(vector[np\u001b[38;5;241m.\u001b[39marange(\u001b[38;5;241m0\u001b[39m, \u001b[38;5;241m12\u001b[39m, \u001b[38;5;241m2\u001b[39m)])\n\u001b[1;32m--> 129\u001b[0m sig_mrr, sig_mtt, sig_mpp, sig_mrt, sig_mrp, sig_mtp \u001b[38;5;241m=\u001b[39m \u001b[38;5;28;43mtuple\u001b[39;49m\u001b[43m(\u001b[49m\n\u001b[0;32m    130\u001b[0m \u001b[43m    \u001b[49m\u001b[43mvector\u001b[49m\u001b[43m[\u001b[49m\u001b[43mnp\u001b[49m\u001b[38;5;241;43m.\u001b[39;49m\u001b[43marange\u001b[49m\u001b[43m(\u001b[49m\u001b[38;5;241;43m1\u001b[39;49m\u001b[43m,\u001b[49m\u001b[43m \u001b[49m\u001b[38;5;241;43m13\u001b[39;49m\u001b[43m,\u001b[49m\u001b[43m \u001b[49m\u001b[38;5;241;43m2\u001b[39;49m\u001b[43m)\u001b[49m\u001b[43m]\u001b[49m\n\u001b[0;32m    131\u001b[0m \u001b[43m\u001b[49m\u001b[43m)\u001b[49m\n\u001b[0;32m    133\u001b[0m tensor \u001b[38;5;241m=\u001b[39m utils\u001b[38;5;241m.\u001b[39mCOORD_SYSTEM[system](mrr, mtt, mpp, mrt, mrp, mtp)\n\u001b[0;32m    134\u001b[0m tensor \u001b[38;5;241m=\u001b[39m (\u001b[38;5;241m10.0\u001b[39m\u001b[38;5;241m*\u001b[39m\u001b[38;5;241m*\u001b[39mexponent) \u001b[38;5;241m*\u001b[39m tensor\n",
      "\u001b[1;31mKeyboardInterrupt\u001b[0m: "
     ]
    }
   ],
   "source": [
    "import openquake.sub.plotting.plot_multiple_cross_sections as pmcs\n",
    "\n",
    "cs_file = \"./../model/cs_traces.txt\"\n",
    "output_folder = \"sections_cs/\"\n",
    "\n",
    "pmcs.pcs(cs_file, output_folder)"
   ]
  },
  {
   "cell_type": "markdown",
   "metadata": {},
   "source": [
    "## 6. Digitize - Manual Digitizing"
   ]
  },
  {
   "cell_type": "code",
   "execution_count": null,
   "metadata": {},
   "outputs": [],
   "source": [
    "\n",
    "\n",
    "from openquake.sub.plotting.plot_cross_section import custom_cross_section\n",
    "\n",
    "custom_cross_section(125.659377, 13.102371, 100, 100.000000, -92.103393, 0, \"./../ini/create_profiles.txt\")"
   ]
  },
  {
   "cell_type": "code",
   "execution_count": null,
   "metadata": {},
   "outputs": [],
   "source": []
  }
 ],
 "metadata": {
  "kernelspec": {
   "display_name": ".venv",
   "language": "python",
   "name": "python3"
  },
  "language_info": {
   "codemirror_mode": {
    "name": "ipython",
    "version": 3
   },
   "file_extension": ".py",
   "mimetype": "text/x-python",
   "name": "python",
   "nbconvert_exporter": "python",
   "pygments_lexer": "ipython3",
   "version": "3.10.0"
  }
 },
 "nbformat": 4,
 "nbformat_minor": 4
}
